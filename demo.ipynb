{
 "cells": [
  {
   "cell_type": "code",
   "execution_count": 4,
   "metadata": {},
   "outputs": [
    {
     "name": "stdout",
     "output_type": "stream",
     "text": [
      "['hello', 'the', 'world']\n",
      "['hello', 'the', 'world']\n",
      "HELLO WORLD\n",
      "None\n",
      "['world']\n",
      "True\n",
      "None\n",
      "['world']\n",
      "True\n",
      "--------------------\n",
      "['hello', 'world']\n"
     ]
    }
   ],
   "source": [
    "from useful_tools.act_as_list import act_as_list\n",
    "@act_as_list('objects')\n",
    "class MyClassThatLooksLikeAList:\n",
    "    def __init__(self, objects = []):\n",
    "        self.objects = objects\n",
    "    def in_uppercase(self):\n",
    "        return \" \".join(self).upper()\n",
    "    def contains_both_hello_and_world(self):\n",
    "        return \"hello\" in self and \"world\" in self\n",
    "fake_list = MyClassThatLooksLikeAList([\"hello\", \"world\"])\n",
    "fake_list.insert(fake_list.index(\"world\"), \"the\")\n",
    "print(fake_list)\n",
    "\n",
    "a = [\"hello\", \"world\"]\n",
    "a.insert(a.index(\"world\"), \"the\")\n",
    "print(a)\n",
    "\n",
    "fake_list = MyClassThatLooksLikeAList([\"hello\", \"world\"])\n",
    "print(fake_list.in_uppercase())\n",
    "print(fake_list.remove(\"hello\"))\n",
    "print(fake_list)\n",
    "print(list(fake_list) == [\"world\"])\n",
    "\n",
    "l = [\"hello\", \"world\"]\n",
    "print(l.remove(\"hello\"))\n",
    "print(l)\n",
    "print(l == [\"world\"])\n",
    "\n",
    "print(\"--------------------\")\n",
    "fake_list = MyClassThatLooksLikeAList([\"hello\"])\n",
    "x = fake_list + l\n",
    "print(x)"
   ]
  }
 ],
 "metadata": {
  "kernelspec": {
   "display_name": ".venv",
   "language": "python",
   "name": "python3"
  },
  "language_info": {
   "codemirror_mode": {
    "name": "ipython",
    "version": 3
   },
   "file_extension": ".py",
   "mimetype": "text/x-python",
   "name": "python",
   "nbconvert_exporter": "python",
   "pygments_lexer": "ipython3",
   "version": "3.12.1"
  }
 },
 "nbformat": 4,
 "nbformat_minor": 2
}
