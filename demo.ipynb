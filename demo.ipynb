{
 "cells": [
  {
   "cell_type": "code",
   "execution_count": 2,
   "metadata": {},
   "outputs": [
    {
     "name": "stdout",
     "output_type": "stream",
     "text": [
      "['hello', 'the', 'world']\n",
      "['hello', 'the', 'world']\n",
      "HELLO WORLD\n",
      "None\n",
      "['world']\n",
      "True\n",
      "None\n",
      "['world']\n",
      "True\n",
      "--------------------\n",
      "['hello', 'world']\n"
     ]
    }
   ],
   "source": [
    "from useful_tools.act_as_list import act_as_list\n",
    "@act_as_list('objects')\n",
    "class MyClassThatLooksLikeAList:\n",
    "    def __init__(self, objects = []):\n",
    "        self.objects = objects\n",
    "    def in_uppercase(self):\n",
    "        return \" \".join(self).upper()\n",
    "    def contains_both_hello_and_world(self):\n",
    "        return \"hello\" in self and \"world\" in self\n",
    "fake_list = MyClassThatLooksLikeAList([\"hello\", \"world\"])\n",
    "fake_list.insert(fake_list.index(\"world\"), \"the\")\n",
    "print(fake_list)\n",
    "\n",
    "a = [\"hello\", \"world\"]\n",
    "a.insert(a.index(\"world\"), \"the\")\n",
    "print(a)\n",
    "\n",
    "fake_list = MyClassThatLooksLikeAList([\"hello\", \"world\"])\n",
    "print(fake_list.in_uppercase())\n",
    "print(fake_list.remove(\"hello\"))\n",
    "print(fake_list)\n",
    "print(list(fake_list) == [\"world\"])\n",
    "\n",
    "l = [\"hello\", \"world\"]\n",
    "print(l.remove(\"hello\"))\n",
    "print(l)\n",
    "print(l == [\"world\"])\n",
    "\n",
    "print(\"--------------------\")\n",
    "fake_list = MyClassThatLooksLikeAList([\"hello\"])\n",
    "x = fake_list + l\n",
    "print(x)"
   ]
  },
  {
   "cell_type": "code",
   "execution_count": 1,
   "metadata": {},
   "outputs": [
    {
     "name": "stdout",
     "output_type": "stream",
     "text": [
      "my_property called 1 times\n",
      "{'MyClass.my_property_5740354900026072187_133146708735736': ['cache_expiration_set: 2s', 'cache_file_exists', 'cache_expired: 5.5m passed', 'method_called', 'cache_saved']}\n",
      "my_property called 1 times\n",
      "{'MyClass.my_property_5740354900026072187_133146708735736': ['cache_expiration_set: 2s', 'cache_file_exists', 'cache_loaded']}\n",
      "Waited 2 seconds...\n",
      "my_property called 2 times\n",
      "{'MyClass.my_property_5740354900026072187_133146708735736': ['cache_expiration_set: 2s', 'cache_file_exists', 'cache_expired: 2.009s passed', 'method_called', 'cache_saved']}\n"
     ]
    }
   ],
   "source": [
    "import time\n",
    "from useful_tools.cache_decorators import cache_to_disk\n",
    "class MyClass:\n",
    "    cache_enabled = True\n",
    "    cache_dir = \"cache\"\n",
    "    cache_expiration = 2 # seconds\n",
    "    force_cache_expiration = False\n",
    "    ignore_cache_expiration = False\n",
    "    number_of_calls = 0\n",
    "    \n",
    "    @property\n",
    "    @cache_to_disk\n",
    "    def my_property(self):\n",
    "        self.number_of_calls += 1\n",
    "        return f\"my_property called {self.number_of_calls} times\"\n",
    "\n",
    "myclass = MyClass()\n",
    "print(myclass.my_property)  # prints \"my_property called 1 times\"\n",
    "print(myclass.cache_status) # gives info about the use of cache in the previous call\n",
    "print(myclass.my_property)  # prints \"my_property called 1 times\", as the result is cached\n",
    "print(myclass.cache_status) # gives info about the use of cache in the previous call\n",
    "time.sleep(2)\n",
    "print(\"Waited 2 seconds...\")\n",
    "print(myclass.my_property)  # prints \"my_property called 2 times\", as the cache has expired\n",
    "print(myclass.cache_status) # gives info about the use of cache in the previous call"
   ]
  }
 ],
 "metadata": {
  "kernelspec": {
   "display_name": ".venv",
   "language": "python",
   "name": "python3"
  },
  "language_info": {
   "codemirror_mode": {
    "name": "ipython",
    "version": 3
   },
   "file_extension": ".py",
   "mimetype": "text/x-python",
   "name": "python",
   "nbconvert_exporter": "python",
   "pygments_lexer": "ipython3",
   "version": "3.12.1"
  }
 },
 "nbformat": 4,
 "nbformat_minor": 2
}
