{
 "cells": [
  {
   "cell_type": "code",
   "execution_count": 2,
   "metadata": {},
   "outputs": [
    {
     "name": "stdout",
     "output_type": "stream",
     "text": [
      "['hello', 'the', 'world']\n",
      "['hello', 'the', 'world']\n",
      "HELLO WORLD\n",
      "None\n",
      "['world']\n",
      "True\n",
      "None\n",
      "['world']\n",
      "True\n",
      "--------------------\n",
      "['hello', 'world']\n",
      "<class 'useful_tools.act_as_list.MyClassThatLooksLikeAList'>\n",
      "<class 'useful_tools.act_as_list.MyClassThatLooksLikeAList'>\n",
      "<class 'list'>\n"
     ]
    }
   ],
   "source": [
    "## Test act_as_list decorator -- creating a \"fake list\" class\n",
    "from useful_tools.act_as_list import act_as_list\n",
    "@act_as_list('objects')\n",
    "class MyClassThatLooksLikeAList:\n",
    "    def __init__(self, objects = []):\n",
    "        self.objects = objects\n",
    "    def in_uppercase(self):\n",
    "        return \" \".join(self).upper()\n",
    "    def contains_both_hello_and_world(self):\n",
    "        return \"hello\" in self and \"world\" in self\n",
    "fake_list = MyClassThatLooksLikeAList([\"hello\", \"world\"])\n",
    "fake_list.insert(fake_list.index(\"world\"), \"the\")\n",
    "print(fake_list)\n",
    "\n",
    "a = [\"hello\", \"world\"]\n",
    "a.insert(a.index(\"world\"), \"the\")\n",
    "print(a)\n",
    "\n",
    "fake_list = MyClassThatLooksLikeAList([\"hello\", \"world\"])\n",
    "print(fake_list.in_uppercase())\n",
    "print(fake_list.remove(\"hello\"))\n",
    "print(fake_list)\n",
    "print(list(fake_list) == [\"world\"])\n",
    "\n",
    "l = [\"hello\", \"world\"]\n",
    "print(l.remove(\"hello\"))\n",
    "print(l)\n",
    "print(l == [\"world\"])\n",
    "\n",
    "print(\"--------------------\")\n",
    "fake_list = MyClassThatLooksLikeAList([\"hello\"])\n",
    "x = fake_list + l # you can add a fake list and a real list, and the result will be a \"fake list\".\n",
    "print(x)\n",
    "print(fake_list.__class__) # act_as_list\n",
    "print(x.__class__)         # also act_as_list\n",
    "print(list(x).__class__)   # but if you want list, you can get it."
   ]
  },
  {
   "cell_type": "code",
   "execution_count": 6,
   "metadata": {},
   "outputs": [
    {
     "name": "stdout",
     "output_type": "stream",
     "text": [
      "my_property was called 1 times\n",
      "my_property was called 1 times\n"
     ]
    }
   ],
   "source": [
    "## Test the cache_to_memory decorator\n",
    "from useful_tools.cache_decorators import cache_to_memory\n",
    "class MyClass:\n",
    "    def __init__(self):\n",
    "        self.counter = 0\n",
    "    @property # you can of course skip the @property decorator and have a method that returns a value\n",
    "    @cache_to_memory\n",
    "    def my_property(self):\n",
    "        self.counter += 1\n",
    "        return f\"my_property was called {self.counter} times\"\n",
    "\n",
    "my_object = MyClass()\n",
    "print(my_object.my_property) # should show that my_property was called 1 time\n",
    "print(my_object.my_property) # should show that my_property was called 1 time again, because it was cached"
   ]
  },
  {
   "cell_type": "code",
   "execution_count": 7,
   "metadata": {},
   "outputs": [
    {
     "name": "stdout",
     "output_type": "stream",
     "text": [
      "my_property called 1 times\n",
      "{'MyClass.my_property_5740354900026072187_133146708735736': ['cache_expiration_set: 2s', 'cache_file_exists', 'cache_expired: 1.2h passed', 'method_called', 'cache_saved']}\n",
      "my_property called 1 times\n",
      "{'MyClass.my_property_5740354900026072187_133146708735736': ['cache_expiration_set: 2s', 'cache_file_exists', 'cache_loaded']}\n",
      "Waited 2 seconds...\n",
      "my_property called 2 times\n",
      "{'MyClass.my_property_5740354900026072187_133146708735736': ['cache_expiration_set: 2s', 'cache_file_exists', 'cache_expired: 2.008s passed', 'method_called', 'cache_saved']}\n"
     ]
    }
   ],
   "source": [
    "## Test the cache_to_disk decorator\n",
    "import time\n",
    "from useful_tools.cache_decorators import cache_to_disk\n",
    "class MyClass:\n",
    "    cache_enabled = True\n",
    "    cache_dir = \"cache\"\n",
    "    cache_expiration = 2 # seconds\n",
    "    force_cache_expiration = False\n",
    "    ignore_cache_expiration = False\n",
    "    number_of_calls = 0\n",
    "    \n",
    "    @property\n",
    "    @cache_to_disk\n",
    "    def my_property(self):\n",
    "        self.number_of_calls += 1\n",
    "        return f\"my_property called {self.number_of_calls} times\"\n",
    "\n",
    "myclass = MyClass()\n",
    "print(myclass.my_property)  # prints \"my_property called 1 times\"\n",
    "print(myclass.cache_status) # gives info about the use of cache in the previous call\n",
    "print(myclass.my_property)  # prints \"my_property called 1 times\", as the result is cached\n",
    "print(myclass.cache_status) # gives info about the use of cache in the previous call\n",
    "time.sleep(2)\n",
    "print(\"Waited 2 seconds...\")\n",
    "print(myclass.my_property)  # prints \"my_property called 2 times\", as the cache has expired\n",
    "print(myclass.cache_status) # gives info about the use of cache in the previous call"
   ]
  },
  {
   "cell_type": "code",
   "execution_count": 2,
   "metadata": {},
   "outputs": [
    {
     "name": "stdout",
     "output_type": "stream",
     "text": [
      "my_method\n",
      "{'MyClass.my_method_5740354900026072187_133146708735736': ['cache_expiration_set: 2s', 'cache_file_exists', 'cache_expired: 49.3s passed', 'method_called', 'cache_saved']}\n",
      "my_method\n",
      "{'MyClass.my_method_5740354900026072187_133146708735736': ['cache_expiration_set: 2s', 'cache_file_does_not_exist', 'method_called', 'cache_saved']}\n",
      "You can see from the cache status that the cache file was deleted.\n"
     ]
    }
   ],
   "source": [
    "## test deleting the cache file following a failed/invalid response\n",
    "## This is useful in order to prevent caching an invalid response\n",
    "from useful_tools.cache_decorators import cache_to_disk, delete_last_saved_cache_file\n",
    "class MyClass:\n",
    "    cache_enabled = True\n",
    "    cache_dir = \"cache\"\n",
    "    cache_expiration = 2 # seconds\n",
    "    force_cache_expiration = False\n",
    "    ignore_cache_expiration = False\n",
    "\n",
    "    @cache_to_disk\n",
    "    def my_method(self):\n",
    "        return \"my_method\"\n",
    "    \n",
    "    @delete_last_saved_cache_file\n",
    "    def delete_cache(self):\n",
    "        pass # the deletion is done in the wrapper\n",
    "\n",
    "myclass = MyClass()\n",
    "print(myclass.my_method()) # prints \"my_method\"\n",
    "print(myclass.cache_status) # gives info about the use of cache in the previous call\n",
    "# determine if the response is valid\n",
    "# if the response is invalid, delete the cache file\n",
    "myclass.delete_cache()\n",
    "print(myclass.my_method()) # prints \"my_method\"\n",
    "print(myclass.cache_status) # gives info about the use of cache in the previous call\n",
    "print(\"You can see from the cache status that the cache file was deleted.\")"
   ]
  }
 ],
 "metadata": {
  "kernelspec": {
   "display_name": ".venv",
   "language": "python",
   "name": "python3"
  },
  "language_info": {
   "codemirror_mode": {
    "name": "ipython",
    "version": 3
   },
   "file_extension": ".py",
   "mimetype": "text/x-python",
   "name": "python",
   "nbconvert_exporter": "python",
   "pygments_lexer": "ipython3",
   "version": "3.12.1"
  }
 },
 "nbformat": 4,
 "nbformat_minor": 2
}
